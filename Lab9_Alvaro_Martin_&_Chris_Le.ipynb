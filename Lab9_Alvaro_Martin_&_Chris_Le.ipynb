{
  "nbformat": 4,
  "nbformat_minor": 0,
  "metadata": {
    "colab": {
      "name": "Lab9 Alvaro Martin & Chris Le.ipynb",
      "provenance": [],
      "collapsed_sections": []
    },
    "kernelspec": {
      "name": "python3",
      "display_name": "Python 3"
    },
    "language_info": {
      "name": "python"
    },
    "accelerator": "GPU"
  },
  "cells": [
    {
      "cell_type": "code",
      "metadata": {
        "id": "yHnUFvfmnoco"
      },
      "source": [
        "import keras\n",
        "from keras.datasets import mnist\n",
        "import matplotlib.pyplot as plt\n",
        "import random\n",
        "import numpy as np"
      ],
      "execution_count": null,
      "outputs": []
    },
    {
      "cell_type": "code",
      "metadata": {
        "id": "6IazqrSwnrT1",
        "colab": {
          "base_uri": "https://localhost:8080/"
        },
        "outputId": "01eba7bf-6b09-4f20-f554-495cdebcbbb4"
      },
      "source": [
        "(X_train, y_train), (X_test, y_test) = mnist.load_data()"
      ],
      "execution_count": null,
      "outputs": [
        {
          "output_type": "stream",
          "text": [
            "Downloading data from https://storage.googleapis.com/tensorflow/tf-keras-datasets/mnist.npz\n",
            "11493376/11490434 [==============================] - 0s 0us/step\n"
          ],
          "name": "stdout"
        }
      ]
    },
    {
      "cell_type": "code",
      "metadata": {
        "colab": {
          "base_uri": "https://localhost:8080/"
        },
        "id": "44lG2T4VoBjG",
        "outputId": "e67854f2-ec30-457e-960c-b0e849366cc1"
      },
      "source": [
        "print('X_train: ' + str(X_train.shape))\n",
        "print('Y_train: ' + str(y_train.shape))\n",
        "print('X_test:  '  + str(X_test.shape))\n",
        "print('Y_test:  '  + str(y_test.shape))"
      ],
      "execution_count": null,
      "outputs": [
        {
          "output_type": "stream",
          "text": [
            "X_train: (60000, 28, 28)\n",
            "Y_train: (60000,)\n",
            "X_test:  (10000, 28, 28)\n",
            "Y_test:  (10000,)\n"
          ],
          "name": "stdout"
        }
      ]
    },
    {
      "cell_type": "code",
      "metadata": {
        "id": "px7tSRiwoEDW"
      },
      "source": [
        "def plot_image(image):\n",
        "    plt.imshow(image, cmap=\"gray\", interpolation=\"nearest\")\n",
        "    plt.axis(\"off\")"
      ],
      "execution_count": null,
      "outputs": []
    },
    {
      "cell_type": "code",
      "metadata": {
        "colab": {
          "base_uri": "https://localhost:8080/",
          "height": 401
        },
        "id": "G2MOD9r_yAWP",
        "outputId": "099d8381-68b8-419d-c3f9-5ee0f78944f4"
      },
      "source": [
        "# X_train = X_train.reshape(X_train.shape[0],28,28,1)\n",
        "# X_test = X_test.reshape(X_test.shape[0],28,28,1)\n",
        "fig = plt.figure(figsize=(20, 17))\n",
        "\n",
        "for i in range(10): \n",
        "  fig.add_subplot(5, 5, i+1)\n",
        "  plot_image(X_train[i])"
      ],
      "execution_count": null,
      "outputs": [
        {
          "output_type": "display_data",
          "data": {
            "image/png": "[encoded data removed]",
            "text/plain": [
              "<Figure size 1440x1224 with 10 Axes>"
            ]
          },
          "metadata": {
            "tags": [],
            "needs_background": "light"
          }
        }
      ]
    },
    {
      "cell_type": "code",
      "metadata": {
        "id": "E0Tfl9aoykGH"
      },
      "source": [
        "X_train, X_test = X_train[:-5000], X_train[-5000:]\n",
        "y_train, y_test = y_train[:-5000], y_train[-5000:]\n",
        "\n",
        "X_mean = X_train.mean(axis=0, keepdims=True)\n",
        "X_std = X_train.std(axis=0, keepdims=True) + 1e-7\n",
        "X_train = (X_train - X_mean) / X_std\n",
        "# X_test = (X_test - X_mean) / X_std\n",
        "X_test = (X_test - X_mean) / X_std\n",
        "\n",
        "X_train = X_train[..., np.newaxis]\n",
        "# X_valid = X_valid[..., np.newaxis]\n",
        "X_test = X_test[..., np.newaxis]"
      ],
      "execution_count": null,
      "outputs": []
    },
    {
      "cell_type": "code",
      "metadata": {
        "id": "Ibbs_9A-oyGI",
        "colab": {
          "base_uri": "https://localhost:8080/"
        },
        "outputId": "2b2bcb9d-e0ed-4b11-9223-e49c17f1615f"
      },
      "source": [
        "from functools import partial\n",
        "\n",
        "DefaultConv2D = partial(keras.layers.Conv2D,\n",
        "                        kernel_size=3, activation='relu', padding=\"SAME\")\n",
        "\n",
        "model = keras.models.Sequential([\n",
        "    DefaultConv2D(filters=64, kernel_size=7, input_shape=[28, 28, 1]),\n",
        "    # kernel_size = 7 (7x7)\n",
        "    # filter \n",
        "    keras.layers.MaxPooling2D(pool_size=2),\n",
        "    DefaultConv2D(filters=128),\n",
        "    DefaultConv2D(filters=128),\n",
        "    keras.layers.MaxPooling2D(pool_size=2),\n",
        "    DefaultConv2D(filters=256),\n",
        "    DefaultConv2D(filters=256),\n",
        "    keras.layers.MaxPooling2D(pool_size=2),\n",
        "    keras.layers.Flatten(),\n",
        "    keras.layers.Dense(units=128, activation='relu'),\n",
        "    keras.layers.Dropout(0.5),\n",
        "    keras.layers.Dense(units=64, activation='relu'),\n",
        "    keras.layers.Dropout(0.5),\n",
        "    keras.layers.Dense(units=10, activation='softmax'),\n",
        "])\n",
        "\n",
        "model.summary()"
      ],
      "execution_count": null,
      "outputs": [
        {
          "output_type": "stream",
          "text": [
            "Model: \"sequential\"\n",
            "_________________________________________________________________\n",
            "Layer (type)                 Output Shape              Param #   \n",
            "=================================================================\n",
            "conv2d (Conv2D)              (None, 28, 28, 64)        3200      \n",
            "_________________________________________________________________\n",
            "max_pooling2d (MaxPooling2D) (None, 14, 14, 64)        0         \n",
            "_________________________________________________________________\n",
            "conv2d_1 (Conv2D)            (None, 14, 14, 128)       73856     \n",
            "_________________________________________________________________\n",
            "conv2d_2 (Conv2D)            (None, 14, 14, 128)       147584    \n",
            "_________________________________________________________________\n",
            "max_pooling2d_1 (MaxPooling2 (None, 7, 7, 128)         0         \n",
            "_________________________________________________________________\n",
            "conv2d_3 (Conv2D)            (None, 7, 7, 256)         295168    \n",
            "_________________________________________________________________\n",
            "conv2d_4 (Conv2D)            (None, 7, 7, 256)         590080    \n",
            "_________________________________________________________________\n",
            "max_pooling2d_2 (MaxPooling2 (None, 3, 3, 256)         0         \n",
            "_________________________________________________________________\n",
            "flatten (Flatten)            (None, 2304)              0         \n",
            "_________________________________________________________________\n",
            "dense (Dense)                (None, 128)               295040    \n",
            "_________________________________________________________________\n",
            "dropout (Dropout)            (None, 128)               0         \n",
            "_________________________________________________________________\n",
            "dense_1 (Dense)              (None, 64)                8256      \n",
            "_________________________________________________________________\n",
            "dropout_1 (Dropout)          (None, 64)                0         \n",
            "_________________________________________________________________\n",
            "dense_2 (Dense)              (None, 10)                650       \n",
            "=================================================================\n",
            "Total params: 1,413,834\n",
            "Trainable params: 1,413,834\n",
            "Non-trainable params: 0\n",
            "_________________________________________________________________\n"
          ],
          "name": "stdout"
        }
      ]
    },
    {
      "cell_type": "code",
      "metadata": {
        "colab": {
          "base_uri": "https://localhost:8080/",
          "height": 797
        },
        "id": "s39pR6oLvtWM",
        "outputId": "a984d991-b86a-445c-c269-4bdc1d87cb97"
      },
      "source": [
        "layer_1 = model.get_layer(index=0)\n",
        "conv_matrix = layer_1.kernel\n",
        "\n",
        "# print first 4 kernels\n",
        "print(conv_matrix[:,:,:,0][:4])\n",
        "\n",
        "# print(conv_matrix)\n",
        "# print(conv_matrix[:,:,0,0].shape)\n",
        "\n",
        "# First 4\n",
        "\n",
        "\n",
        "\n",
        "plot_image(conv_matrix[:,:,0,0])"
      ],
      "execution_count": null,
      "outputs": [
        {
          "output_type": "stream",
          "text": [
            "tf.Tensor(\n",
            "[[[ 0.04212566]\n",
            "  [ 0.00501809]\n",
            "  [ 0.00284377]\n",
            "  [-0.004184  ]\n",
            "  [-0.01615958]\n",
            "  [-0.03101738]\n",
            "  [-0.03046397]]\n",
            "\n",
            " [[ 0.01089394]\n",
            "  [-0.01646173]\n",
            "  [ 0.03822539]\n",
            "  [ 0.00850239]\n",
            "  [-0.03789612]\n",
            "  [ 0.00345335]\n",
            "  [-0.00592661]]\n",
            "\n",
            " [[ 0.02639282]\n",
            "  [ 0.03236814]\n",
            "  [ 0.03893594]\n",
            "  [ 0.02287744]\n",
            "  [ 0.03074055]\n",
            "  [ 0.01614831]\n",
            "  [ 0.04257681]]\n",
            "\n",
            " [[-0.03666362]\n",
            "  [ 0.02316773]\n",
            "  [-0.01984269]\n",
            "  [-0.03775214]\n",
            "  [-0.03928512]\n",
            "  [ 0.003282  ]\n",
            "  [ 0.03169981]]], shape=(4, 7, 1), dtype=float32)\n"
          ],
          "name": "stdout"
        },
        {
          "output_type": "display_data",
          "data": {
            "image/png": "[encoded data removed]",
            "text/plain": [
              "<Figure size 432x288 with 1 Axes>"
            ]
          },
          "metadata": {
            "tags": [],
            "needs_background": "light"
          }
        }
      ]
    },
    {
      "cell_type": "code",
      "metadata": {
        "id": "Aa2Uu-yJwje2"
      },
      "source": [
        "model.compile(loss=\"sparse_categorical_crossentropy\", optimizer=\"nadam\", metrics=[\"accuracy\"])\n"
      ],
      "execution_count": null,
      "outputs": []
    },
    {
      "cell_type": "code",
      "metadata": {
        "colab": {
          "base_uri": "https://localhost:8080/"
        },
        "id": "mRZ0VPRzxdec",
        "outputId": "383c8575-b1c2-4ba7-92f7-4c6d55045d2d"
      },
      "source": [
        "history = model.fit(X_train, y_train, epochs=10, validation_data=(X_test, y_test))\n",
        "\n",
        "score = model.evaluate(X_test, y_test)"
      ],
      "execution_count": null,
      "outputs": [
        {
          "output_type": "stream",
          "text": [
            "Epoch 1/10\n",
            "1719/1719 [==============================] - 49s 9ms/step - loss: 0.7430 - accuracy: 0.7569 - val_loss: 0.0659 - val_accuracy: 0.9808\n",
            "Epoch 2/10\n",
            "1719/1719 [==============================] - 14s 8ms/step - loss: 0.1243 - accuracy: 0.9703 - val_loss: 0.0822 - val_accuracy: 0.9834\n",
            "Epoch 3/10\n",
            "1719/1719 [==============================] - 15s 8ms/step - loss: 0.0949 - accuracy: 0.9785 - val_loss: 0.0731 - val_accuracy: 0.9864\n",
            "Epoch 4/10\n",
            "1719/1719 [==============================] - 14s 8ms/step - loss: 0.0798 - accuracy: 0.9812 - val_loss: 0.1240 - val_accuracy: 0.9906\n",
            "Epoch 5/10\n",
            "1719/1719 [==============================] - 14s 8ms/step - loss: 0.0754 - accuracy: 0.9836 - val_loss: 0.0382 - val_accuracy: 0.9910\n",
            "Epoch 6/10\n",
            "1719/1719 [==============================] - 14s 8ms/step - loss: 0.0629 - accuracy: 0.9866 - val_loss: 0.0407 - val_accuracy: 0.9922\n",
            "Epoch 7/10\n",
            "1719/1719 [==============================] - 14s 8ms/step - loss: 0.0624 - accuracy: 0.9862 - val_loss: 0.0485 - val_accuracy: 0.9918\n",
            "Epoch 8/10\n",
            "1719/1719 [==============================] - 15s 8ms/step - loss: 0.0514 - accuracy: 0.9875 - val_loss: 0.0439 - val_accuracy: 0.9904\n",
            "Epoch 9/10\n",
            "1719/1719 [==============================] - 14s 8ms/step - loss: 0.0485 - accuracy: 0.9890 - val_loss: 0.0557 - val_accuracy: 0.9894\n",
            "Epoch 10/10\n",
            "1719/1719 [==============================] - 14s 8ms/step - loss: 0.0498 - accuracy: 0.9883 - val_loss: 0.0391 - val_accuracy: 0.9914\n",
            "157/157 [==============================] - 1s 3ms/step - loss: 0.0391 - accuracy: 0.9914\n"
          ],
          "name": "stdout"
        }
      ]
    },
    {
      "cell_type": "code",
      "metadata": {
        "colab": {
          "base_uri": "https://localhost:8080/"
        },
        "id": "5Jc8PpqT4qbE",
        "outputId": "ac29603b-9778-4826-b6a9-5f2d0b665880"
      },
      "source": [
        "print(\"Accuracy is: \", score[1])"
      ],
      "execution_count": null,
      "outputs": [
        {
          "output_type": "stream",
          "text": [
            "Accuracy is:  0.9914000034332275\n"
          ],
          "name": "stdout"
        }
      ]
    },
    {
      "cell_type": "code",
      "metadata": {
        "colab": {
          "base_uri": "https://localhost:8080/",
          "height": 797
        },
        "id": "NqZHi8MzxhQG",
        "outputId": "81e5849a-873e-4c9a-ccc5-dff05482edb0"
      },
      "source": [
        "layer_1 = model.get_layer(index=0)\n",
        "conv_matrix = layer_1.kernel\n",
        "# print(conv_matrix)\n",
        "# print(conv_matrix[:,:,0,0].shape)\n",
        "\n",
        "# First 4\n",
        "print(conv_matrix[:,:,:,0][:4])\n",
        "\n",
        "plot_image(conv_matrix[:,:,0,0])"
      ],
      "execution_count": null,
      "outputs": [
        {
          "output_type": "stream",
          "text": [
            "tf.Tensor(\n",
            "[[[-0.01541959]\n",
            "  [-0.02863043]\n",
            "  [ 0.0131449 ]\n",
            "  [ 0.00778558]\n",
            "  [-0.01834625]\n",
            "  [-0.02008801]\n",
            "  [-0.03797168]]\n",
            "\n",
            " [[ 0.02051699]\n",
            "  [ 0.00651772]\n",
            "  [-0.01855556]\n",
            "  [-0.010692  ]\n",
            "  [-0.05000893]\n",
            "  [-0.02273535]\n",
            "  [-0.05991971]]\n",
            "\n",
            " [[-0.02308654]\n",
            "  [-0.02812459]\n",
            "  [-0.00903016]\n",
            "  [-0.01469419]\n",
            "  [ 0.00429472]\n",
            "  [ 0.01215611]\n",
            "  [-0.02819557]]\n",
            "\n",
            " [[-0.03267869]\n",
            "  [ 0.00920694]\n",
            "  [-0.00282815]\n",
            "  [ 0.03805467]\n",
            "  [ 0.05218638]\n",
            "  [ 0.04362494]\n",
            "  [ 0.0060495 ]]], shape=(4, 7, 1), dtype=float32)\n"
          ],
          "name": "stdout"
        },
        {
          "output_type": "display_data",
          "data": {
            "image/png": "[encoded data removed]",
            "text/plain": [
              "<Figure size 432x288 with 1 Axes>"
            ]
          },
          "metadata": {
            "tags": [],
            "needs_background": "light"
          }
        }
      ]
    },
    {
      "cell_type": "code",
      "metadata": {
        "colab": {
          "base_uri": "https://localhost:8080/"
        },
        "id": "_TdHIedb8w2I",
        "outputId": "f687f7d7-ab99-4dfb-b102-aaa581dd0b58"
      },
      "source": [
        "# confusion matrix\n",
        "from sklearn.metrics import confusion_matrix\n",
        "y_pred = model.predict_classes(X_test)\n",
        "\n",
        "print(y_test.shape, y_pred.shape)\n",
        "confusion_matrix(y_test, y_pred)"
      ],
      "execution_count": null,
      "outputs": [
        {
          "output_type": "stream",
          "text": [
            "/usr/local/lib/python3.7/dist-packages/tensorflow/python/keras/engine/sequential.py:450: UserWarning: `model.predict_classes()` is deprecated and will be removed after 2021-01-01. Please use instead:* `np.argmax(model.predict(x), axis=-1)`,   if your model does multi-class classification   (e.g. if it uses a `softmax` last-layer activation).* `(model.predict(x) > 0.5).astype(\"int32\")`,   if your model does binary classification   (e.g. if it uses a `sigmoid` last-layer activation).\n",
            "  warnings.warn('`model.predict_classes()` is deprecated and '\n"
          ],
          "name": "stderr"
        },
        {
          "output_type": "stream",
          "text": [
            "(5000,) (5000,)\n"
          ],
          "name": "stdout"
        },
        {
          "output_type": "execute_result",
          "data": {
            "text/plain": [
              "array([[486,   0,   0,   1,   0,   0,   0,   0,   1,   1],\n",
              "       [  0, 525,   3,   0,   0,   0,   0,   2,   0,   0],\n",
              "       [  0,   0, 490,   2,   0,   0,   0,   1,   0,   0],\n",
              "       [  0,   0,   0, 508,   0,   0,   0,   0,   1,   0],\n",
              "       [  0,   0,   0,   0, 487,   0,   0,   3,   0,   9],\n",
              "       [  0,   0,   1,   0,   0, 452,   4,   0,   0,   1],\n",
              "       [  0,   0,   0,   0,   0,   1, 481,   0,   0,   0],\n",
              "       [  0,   0,   0,   0,   0,   0,   0, 563,   0,   0],\n",
              "       [  0,   0,   1,   2,   0,   1,   0,   0, 489,   1],\n",
              "       [  0,   0,   0,   1,   1,   2,   0,   2,   1, 476]])"
            ]
          },
          "metadata": {
            "tags": []
          },
          "execution_count": 13
        }
      ]
    },
    {
      "cell_type": "markdown",
      "metadata": {
        "id": "_5iQfYD1Fn5p"
      },
      "source": [
        "Part 2"
      ]
    },
    {
      "cell_type": "code",
      "metadata": {
        "id": "DPC4sINVFq3z"
      },
      "source": [
        "(X_train_new, y_train_new), (X_test_new, y_test_new) = mnist.load_data() "
      ],
      "execution_count": null,
      "outputs": []
    },
    {
      "cell_type": "code",
      "metadata": {
        "id": "pQRNOZtauDQk"
      },
      "source": [
        "from scipy import ndimage, misc\n",
        "import random"
      ],
      "execution_count": null,
      "outputs": []
    },
    {
      "cell_type": "code",
      "metadata": {
        "colab": {
          "base_uri": "https://localhost:8080/",
          "height": 305
        },
        "id": "--2MhFzM00SK",
        "outputId": "706c9c03-7b10-4cce-ab3a-27ed7189128e"
      },
      "source": [
        "# random\n",
        "sample2 = ndimage.rotate(X_train_new[0], 180, reshape=False)\n",
        "sample3 = ndimage.rotate(X_train_new[33], 180, reshape=False)\n",
        "\n",
        "\n",
        "f, axarr = plt.subplots(2,2)\n",
        "axarr[0,0].imshow(X_train_new[0])\n",
        "axarr[0,1].imshow(sample2)\n",
        "axarr[1,0].imshow(X_train_new[33])\n",
        "axarr[1,1].imshow(sample3)"
      ],
      "execution_count": null,
      "outputs": [
        {
          "output_type": "execute_result",
          "data": {
            "text/plain": [
              "<matplotlib.image.AxesImage at 0x7f0f955f7c50>"
            ]
          },
          "metadata": {
            "tags": []
          },
          "execution_count": 16
        },
        {
          "output_type": "display_data",
          "data": {
            "image/png": "[encoded data removed]",
            "text/plain": [
              "<Figure size 432x288 with 4 Axes>"
            ]
          },
          "metadata": {
            "tags": [],
            "needs_background": "light"
          }
        }
      ]
    },
    {
      "cell_type": "code",
      "metadata": {
        "id": "eQu_XY260i2w"
      },
      "source": [
        "for n in range(len(X_train_new)):\n",
        "  X_train_new[n] = ndimage.rotate(X_train_new[n], random.randint(0, 360), reshape=False)"
      ],
      "execution_count": null,
      "outputs": []
    },
    {
      "cell_type": "code",
      "metadata": {
        "id": "OwmplVzKv06Q",
        "colab": {
          "base_uri": "https://localhost:8080/",
          "height": 401
        },
        "outputId": "7c074a4d-aea5-4415-fcfa-2d19a6dbebb9"
      },
      "source": [
        "fig = plt.figure(figsize=(20, 17))\n",
        "\n",
        "for i in range(10): \n",
        "  fig.add_subplot(5, 5, i+1)\n",
        "  # plot_image(X_train_new[i])\n",
        "  plt.imshow(X_train_new[i].squeeze())\n",
        "  plt.axis(\"off\")"
      ],
      "execution_count": null,
      "outputs": [
        {
          "output_type": "display_data",
          "data": {
            "image/png": "[encoded data removed]",
            "text/plain": [
              "<Figure size 1440x1224 with 10 Axes>"
            ]
          },
          "metadata": {
            "tags": [],
            "needs_background": "light"
          }
        }
      ]
    },
    {
      "cell_type": "code",
      "metadata": {
        "id": "eBxukg4swItP"
      },
      "source": [
        "X_train_new, X_test_new = X_train_new[:-5000], X_train_new[-5000:]\n",
        "y_train_new, y_test_new = y_train_new[:-5000], y_train_new[-5000:]\n",
        "\n",
        "X_mean_new = X_train_new.mean(axis=0, keepdims=True)\n",
        "X_std_new = X_train_new.std(axis=0, keepdims=True) + 1e-7\n",
        "X_train_new = (X_train_new - X_mean_new) / X_std_new\n",
        "# X_test = (X_test - X_mean) / X_std\n",
        "X_test_new = (X_test_new - X_mean_new) / X_std_new\n",
        "\n",
        "X_train_new = X_train_new[..., np.newaxis]\n",
        "# X_valid = X_valid[..., np.newaxis]\n",
        "X_test_new = X_test_new[..., np.newaxis]"
      ],
      "execution_count": null,
      "outputs": []
    },
    {
      "cell_type": "code",
      "metadata": {
        "id": "XcQg1Bm32blh"
      },
      "source": [
        "from functools import partial\n",
        "\n",
        "DefaultConv2D = partial(keras.layers.Conv2D,\n",
        "                        kernel_size=3, activation='relu', padding=\"SAME\")\n",
        "\n",
        "model = keras.models.Sequential([\n",
        "    DefaultConv2D(filters=64, kernel_size=7, input_shape=[28, 28, 1]),\n",
        "    # kernel_size = 7 (7x7)\n",
        "    # filter \n",
        "    keras.layers.MaxPooling2D(pool_size=2),\n",
        "    DefaultConv2D(filters=128),\n",
        "    DefaultConv2D(filters=128),\n",
        "    keras.layers.MaxPooling2D(pool_size=2),\n",
        "    DefaultConv2D(filters=256),\n",
        "    DefaultConv2D(filters=256),\n",
        "    keras.layers.MaxPooling2D(pool_size=2),\n",
        "    keras.layers.Flatten(),\n",
        "    keras.layers.Dense(units=128, activation='relu'),\n",
        "    keras.layers.Dropout(0.5),\n",
        "    keras.layers.Dense(units=64, activation='relu'),\n",
        "    keras.layers.Dropout(0.5),\n",
        "    keras.layers.Dense(units=10, activation='softmax'),\n",
        "])"
      ],
      "execution_count": null,
      "outputs": []
    },
    {
      "cell_type": "code",
      "metadata": {
        "colab": {
          "base_uri": "https://localhost:8080/"
        },
        "id": "buvi2t-z2hbq",
        "outputId": "c8fc0247-bfb3-497c-8bb7-674479488ad0"
      },
      "source": [
        "model.summary()"
      ],
      "execution_count": null,
      "outputs": [
        {
          "output_type": "stream",
          "text": [
            "Model: \"sequential_1\"\n",
            "_________________________________________________________________\n",
            "Layer (type)                 Output Shape              Param #   \n",
            "=================================================================\n",
            "conv2d_5 (Conv2D)            (None, 28, 28, 64)        3200      \n",
            "_________________________________________________________________\n",
            "max_pooling2d_3 (MaxPooling2 (None, 14, 14, 64)        0         \n",
            "_________________________________________________________________\n",
            "conv2d_6 (Conv2D)            (None, 14, 14, 128)       73856     \n",
            "_________________________________________________________________\n",
            "conv2d_7 (Conv2D)            (None, 14, 14, 128)       147584    \n",
            "_________________________________________________________________\n",
            "max_pooling2d_4 (MaxPooling2 (None, 7, 7, 128)         0         \n",
            "_________________________________________________________________\n",
            "conv2d_8 (Conv2D)            (None, 7, 7, 256)         295168    \n",
            "_________________________________________________________________\n",
            "conv2d_9 (Conv2D)            (None, 7, 7, 256)         590080    \n",
            "_________________________________________________________________\n",
            "max_pooling2d_5 (MaxPooling2 (None, 3, 3, 256)         0         \n",
            "_________________________________________________________________\n",
            "flatten_1 (Flatten)          (None, 2304)              0         \n",
            "_________________________________________________________________\n",
            "dense_3 (Dense)              (None, 128)               295040    \n",
            "_________________________________________________________________\n",
            "dropout_2 (Dropout)          (None, 128)               0         \n",
            "_________________________________________________________________\n",
            "dense_4 (Dense)              (None, 64)                8256      \n",
            "_________________________________________________________________\n",
            "dropout_3 (Dropout)          (None, 64)                0         \n",
            "_________________________________________________________________\n",
            "dense_5 (Dense)              (None, 10)                650       \n",
            "=================================================================\n",
            "Total params: 1,413,834\n",
            "Trainable params: 1,413,834\n",
            "Non-trainable params: 0\n",
            "_________________________________________________________________\n"
          ],
          "name": "stdout"
        }
      ]
    },
    {
      "cell_type": "code",
      "metadata": {
        "colab": {
          "base_uri": "https://localhost:8080/",
          "height": 797
        },
        "id": "6GlIhblc2tMG",
        "outputId": "8b00151b-80fe-4e40-a973-796611ae53b9"
      },
      "source": [
        "layer_1 = model.get_layer(index=0)\n",
        "conv_matrix = layer_1.kernel\n",
        "# print(conv_matrix)\n",
        "# print(conv_matrix[:,:,0,0].shape)\n",
        "\n",
        "# First 4\n",
        "print(conv_matrix[:,:,:,0][:4])\n",
        "\n",
        "plot_image(conv_matrix[:,:,0,0])"
      ],
      "execution_count": null,
      "outputs": [
        {
          "output_type": "stream",
          "text": [
            "tf.Tensor(\n",
            "[[[-0.01782415]\n",
            "  [-0.01267819]\n",
            "  [ 0.01240696]\n",
            "  [-0.0290932 ]\n",
            "  [ 0.00948222]\n",
            "  [-0.03052129]\n",
            "  [ 0.04192814]]\n",
            "\n",
            " [[ 0.00664373]\n",
            "  [-0.01291291]\n",
            "  [ 0.02589324]\n",
            "  [-0.03840507]\n",
            "  [-0.03134122]\n",
            "  [-0.01321346]\n",
            "  [ 0.00305461]]\n",
            "\n",
            " [[ 0.03369104]\n",
            "  [-0.00120866]\n",
            "  [-0.03441635]\n",
            "  [ 0.03547602]\n",
            "  [ 0.0316453 ]\n",
            "  [ 0.02963668]\n",
            "  [-0.02188989]]\n",
            "\n",
            " [[ 0.00264915]\n",
            "  [ 0.04174979]\n",
            "  [-0.01988794]\n",
            "  [ 0.00166678]\n",
            "  [ 0.0039497 ]\n",
            "  [ 0.00659783]\n",
            "  [ 0.03435083]]], shape=(4, 7, 1), dtype=float32)\n"
          ],
          "name": "stdout"
        },
        {
          "output_type": "display_data",
          "data": {
            "image/png": "[encoded data removed]",
            "text/plain": [
              "<Figure size 432x288 with 1 Axes>"
            ]
          },
          "metadata": {
            "tags": [],
            "needs_background": "light"
          }
        }
      ]
    },
    {
      "cell_type": "code",
      "metadata": {
        "id": "qYU4oX6a2zBI"
      },
      "source": [
        "model.compile(loss=\"sparse_categorical_crossentropy\", optimizer=\"nadam\", metrics=[\"accuracy\"])"
      ],
      "execution_count": null,
      "outputs": []
    },
    {
      "cell_type": "code",
      "metadata": {
        "colab": {
          "base_uri": "https://localhost:8080/"
        },
        "id": "FbBrZO7d23qD",
        "outputId": "543c78ef-ca16-496c-a7bf-de2b0d5e36b6"
      },
      "source": [
        "history = model.fit(X_train_new, y_train_new, epochs=10, validation_data=(X_test_new, y_test_new))\n",
        "score = model.evaluate(X_test_new, y_test_new)"
      ],
      "execution_count": null,
      "outputs": [
        {
          "output_type": "stream",
          "text": [
            "Epoch 1/10\n",
            "1719/1719 [==============================] - 16s 9ms/step - loss: 1.8880 - accuracy: 0.3081 - val_loss: 0.3177 - val_accuracy: 0.9038\n",
            "Epoch 2/10\n",
            "1719/1719 [==============================] - 15s 8ms/step - loss: 0.4778 - accuracy: 0.8622 - val_loss: 0.2183 - val_accuracy: 0.9398\n",
            "Epoch 3/10\n",
            "1719/1719 [==============================] - 15s 9ms/step - loss: 0.3332 - accuracy: 0.9067 - val_loss: 0.1686 - val_accuracy: 0.9500\n",
            "Epoch 4/10\n",
            "1719/1719 [==============================] - 15s 8ms/step - loss: 0.2595 - accuracy: 0.9277 - val_loss: 0.1525 - val_accuracy: 0.9558\n",
            "Epoch 5/10\n",
            "1719/1719 [==============================] - 14s 8ms/step - loss: 0.2350 - accuracy: 0.9359 - val_loss: 0.1580 - val_accuracy: 0.9572\n",
            "Epoch 6/10\n",
            "1719/1719 [==============================] - 15s 8ms/step - loss: 0.2120 - accuracy: 0.9423 - val_loss: 0.1558 - val_accuracy: 0.9582\n",
            "Epoch 7/10\n",
            "1719/1719 [==============================] - 15s 9ms/step - loss: 0.1886 - accuracy: 0.9469 - val_loss: 0.1358 - val_accuracy: 0.9614\n",
            "Epoch 8/10\n",
            "1719/1719 [==============================] - 15s 9ms/step - loss: 0.1704 - accuracy: 0.9520 - val_loss: 0.1514 - val_accuracy: 0.9606\n",
            "Epoch 9/10\n",
            "1719/1719 [==============================] - 15s 9ms/step - loss: 0.1582 - accuracy: 0.9563 - val_loss: 0.1368 - val_accuracy: 0.9626\n",
            "Epoch 10/10\n",
            "1719/1719 [==============================] - 15s 9ms/step - loss: 0.1473 - accuracy: 0.9593 - val_loss: 0.1308 - val_accuracy: 0.9614\n",
            "157/157 [==============================] - 1s 3ms/step - loss: 0.1308 - accuracy: 0.9614\n"
          ],
          "name": "stdout"
        }
      ]
    },
    {
      "cell_type": "code",
      "metadata": {
        "colab": {
          "base_uri": "https://localhost:8080/",
          "height": 797
        },
        "id": "y_rHyXYg27fn",
        "outputId": "b2903104-9576-47ec-f207-d857020484a8"
      },
      "source": [
        "layer_1 = model.get_layer(index=0)\n",
        "conv_matrix = layer_1.kernel\n",
        "# print(conv_matrix)\n",
        "# print(conv_matrix[:,:,0,0].shape)\n",
        "\n",
        "# First 4\n",
        "print(conv_matrix[:,:,:,0][:4])\n",
        "\n",
        "plot_image(conv_matrix[:,:,0,0])"
      ],
      "execution_count": null,
      "outputs": [
        {
          "output_type": "stream",
          "text": [
            "tf.Tensor(\n",
            "[[[ 0.06586865]\n",
            "  [ 0.0621245 ]\n",
            "  [ 0.03422519]\n",
            "  [-0.01787367]\n",
            "  [-0.01445916]\n",
            "  [-0.00772612]\n",
            "  [ 0.04622101]]\n",
            "\n",
            " [[ 0.01327792]\n",
            "  [-0.0042849 ]\n",
            "  [-0.00121417]\n",
            "  [ 0.00475409]\n",
            "  [-0.00249342]\n",
            "  [ 0.00294329]\n",
            "  [-0.00159403]]\n",
            "\n",
            " [[-0.04096974]\n",
            "  [-0.01830072]\n",
            "  [-0.06858459]\n",
            "  [-0.05830559]\n",
            "  [-0.02280284]\n",
            "  [ 0.03238465]\n",
            "  [ 0.05562493]]\n",
            "\n",
            " [[-0.01522267]\n",
            "  [-0.03500529]\n",
            "  [-0.14281803]\n",
            "  [-0.14863084]\n",
            "  [-0.10321918]\n",
            "  [-0.05058501]\n",
            "  [ 0.00948266]]], shape=(4, 7, 1), dtype=float32)\n"
          ],
          "name": "stdout"
        },
        {
          "output_type": "display_data",
          "data": {
            "image/png": "[encoded data removed]",
            "text/plain": [
              "<Figure size 432x288 with 1 Axes>"
            ]
          },
          "metadata": {
            "tags": [],
            "needs_background": "light"
          }
        }
      ]
    },
    {
      "cell_type": "code",
      "metadata": {
        "colab": {
          "base_uri": "https://localhost:8080/"
        },
        "id": "01L1Io695JwW",
        "outputId": "ffbca231-b417-4c9a-8dbe-3219faf027a3"
      },
      "source": [
        "y_pred_new = model.predict_classes(X_test_new)"
      ],
      "execution_count": null,
      "outputs": [
        {
          "output_type": "stream",
          "text": [
            "/usr/local/lib/python3.7/dist-packages/tensorflow/python/keras/engine/sequential.py:450: UserWarning: `model.predict_classes()` is deprecated and will be removed after 2021-01-01. Please use instead:* `np.argmax(model.predict(x), axis=-1)`,   if your model does multi-class classification   (e.g. if it uses a `softmax` last-layer activation).* `(model.predict(x) > 0.5).astype(\"int32\")`,   if your model does binary classification   (e.g. if it uses a `sigmoid` last-layer activation).\n",
            "  warnings.warn('`model.predict_classes()` is deprecated and '\n"
          ],
          "name": "stderr"
        }
      ]
    },
    {
      "cell_type": "code",
      "metadata": {
        "colab": {
          "base_uri": "https://localhost:8080/"
        },
        "id": "w7AW81or4e-j",
        "outputId": "16724b7a-391e-4792-a637-56081c6f1985"
      },
      "source": [
        "print(\"Accuracy for rotated images\", score[1])"
      ],
      "execution_count": null,
      "outputs": [
        {
          "output_type": "stream",
          "text": [
            "Accuracy for rotated images 0.9613999724388123\n"
          ],
          "name": "stdout"
        }
      ]
    },
    {
      "cell_type": "code",
      "metadata": {
        "colab": {
          "base_uri": "https://localhost:8080/"
        },
        "id": "gmFZPlk04kay",
        "outputId": "d9f641fb-ca76-4084-a07b-e73da0cdf24e"
      },
      "source": [
        "# new confusion matrix \n",
        "from sklearn.metrics import confusion_matrix\n",
        "\n",
        "print(y_test_new.shape, y_pred_new.shape)\n",
        "confusion_matrix(y_test_new, y_pred_new)"
      ],
      "execution_count": null,
      "outputs": [
        {
          "output_type": "stream",
          "text": [
            "(5000,) (5000,)\n"
          ],
          "name": "stdout"
        },
        {
          "output_type": "execute_result",
          "data": {
            "text/plain": [
              "array([[483,   0,   1,   0,   0,   0,   1,   0,   3,   1],\n",
              "       [  0, 520,   2,   0,   4,   0,   0,   3,   1,   0],\n",
              "       [  1,   0, 480,   0,   0,   0,   1,   7,   4,   0],\n",
              "       [  0,   0,   2, 499,   1,   2,   0,   1,   4,   0],\n",
              "       [  0,   2,   0,   0, 488,   1,   0,   2,   0,   6],\n",
              "       [  0,   1,   0,   5,   1, 433,   7,   0,   7,   4],\n",
              "       [  3,   1,   0,   0,   2,   2, 454,   9,   2,   9],\n",
              "       [  2,   2,   6,   0,  10,   0,   5, 534,   0,   4],\n",
              "       [  2,   1,   0,   2,   0,   1,   1,   0, 484,   3],\n",
              "       [  1,   0,   0,   0,   7,  16,  20,   0,   7, 432]])"
            ]
          },
          "metadata": {
            "tags": []
          },
          "execution_count": 28
        }
      ]
    },
    {
      "cell_type": "markdown",
      "metadata": {
        "id": "mfkgZgoRByRK"
      },
      "source": [
        "# Some Testing of the new dataset and the model"
      ]
    },
    {
      "cell_type": "code",
      "metadata": {
        "colab": {
          "base_uri": "https://localhost:8080/"
        },
        "id": "qCNdchmX_wWn",
        "outputId": "bf357d2c-8afb-4f63-8c1a-efdbf2ca0fb7"
      },
      "source": [
        "# We use .squeeze to reshape the X_test_new array since it cannot be plotted like that\n",
        "print(\"Previous shape: \", X_test_new.shape)\n",
        "\n",
        "X_test_new = X_test_new.squeeze()\n",
        "\n",
        "print(\"New shape: \", X_test_new.shape)\n"
      ],
      "execution_count": null,
      "outputs": [
        {
          "output_type": "stream",
          "text": [
            "Previous shape:  (5000, 28, 28, 1)\n",
            "New shape:  (5000, 28, 28)\n"
          ],
          "name": "stdout"
        }
      ]
    },
    {
      "cell_type": "code",
      "metadata": {
        "colab": {
          "base_uri": "https://localhost:8080/",
          "height": 1000
        },
        "id": "f5chA4wu-rQT",
        "outputId": "d7c835a1-f66e-4096-d919-349ee2d5af8d"
      },
      "source": [
        "# We change the plotting method due to image contrast issues\n",
        "\n",
        "for n in range(10):\n",
        "  rand_plot = random.randint(0, 5001)\n",
        "  plt.imshow(X_test_new[rand_plot])\n",
        "  plt.axis(\"off\")\n",
        "  plt.show()\n",
        "  print(y_pred_new[rand_plot])\n",
        "\n"
      ],
      "execution_count": null,
      "outputs": [
        {
          "output_type": "display_data",
          "data": {
            "image/png": "[encoded data removed]",
            "text/plain": [
              "<Figure size 432x288 with 1 Axes>"
            ]
          },
          "metadata": {
            "tags": [],
            "needs_background": "light"
          }
        },
        {
          "output_type": "stream",
          "text": [
            "7\n"
          ],
          "name": "stdout"
        },
        {
          "output_type": "display_data",
          "data": {
            "image/png": "[encoded data removed]",
            "text/plain": [
              "<Figure size 432x288 with 1 Axes>"
            ]
          },
          "metadata": {
            "tags": [],
            "needs_background": "light"
          }
        },
        {
          "output_type": "stream",
          "text": [
            "8\n"
          ],
          "name": "stdout"
        },
        {
          "output_type": "display_data",
          "data": {
            "image/png": "[encoded data removed]",
            "text/plain": [
              "<Figure size 432x288 with 1 Axes>"
            ]
          },
          "metadata": {
            "tags": [],
            "needs_background": "light"
          }
        },
        {
          "output_type": "stream",
          "text": [
            "0\n"
          ],
          "name": "stdout"
        },
        {
          "output_type": "display_data",
          "data": {
            "image/png": "[encoded data removed]",
            "text/plain": [
              "<Figure size 432x288 with 1 Axes>"
            ]
          },
          "metadata": {
            "tags": [],
            "needs_background": "light"
          }
        },
        {
          "output_type": "stream",
          "text": [
            "9\n"
          ],
          "name": "stdout"
        },
        {
          "output_type": "display_data",
          "data": {
            "image/png": "[encoded data removed]",
            "text/plain": [
              "<Figure size 432x288 with 1 Axes>"
            ]
          },
          "metadata": {
            "tags": [],
            "needs_background": "light"
          }
        },
        {
          "output_type": "stream",
          "text": [
            "5\n"
          ],
          "name": "stdout"
        },
        {
          "output_type": "display_data",
          "data": {
            "image/png": "[encoded data removed]",
            "text/plain": [
              "<Figure size 432x288 with 1 Axes>"
            ]
          },
          "metadata": {
            "tags": [],
            "needs_background": "light"
          }
        },
        {
          "output_type": "stream",
          "text": [
            "6\n"
          ],
          "name": "stdout"
        },
        {
          "output_type": "display_data",
          "data": {
            "image/png": "[encoded data removed]",
            "text/plain": [
              "<Figure size 432x288 with 1 Axes>"
            ]
          },
          "metadata": {
            "tags": [],
            "needs_background": "light"
          }
        },
        {
          "output_type": "stream",
          "text": [
            "6\n"
          ],
          "name": "stdout"
        },
        {
          "output_type": "display_data",
          "data": {
            "image/png": "[encoded data removed]",
            "text/plain": [
              "<Figure size 432x288 with 1 Axes>"
            ]
          },
          "metadata": {
            "tags": [],
            "needs_background": "light"
          }
        },
        {
          "output_type": "stream",
          "text": [
            "0\n"
          ],
          "name": "stdout"
        },
        {
          "output_type": "display_data",
          "data": {
            "image/png": "[encoded data removed]",
            "text/plain": [
              "<Figure size 432x288 with 1 Axes>"
            ]
          },
          "metadata": {
            "tags": [],
            "needs_background": "light"
          }
        },
        {
          "output_type": "stream",
          "text": [
            "7\n"
          ],
          "name": "stdout"
        },
        {
          "output_type": "display_data",
          "data": {
            "image/png": "[encoded data removed]",
            "text/plain": [
              "<Figure size 432x288 with 1 Axes>"
            ]
          },
          "metadata": {
            "tags": [],
            "needs_background": "light"
          }
        },
        {
          "output_type": "stream",
          "text": [
            "6\n"
          ],
          "name": "stdout"
        }
      ]
    },
    {
      "cell_type": "code",
      "metadata": {
        "id": "ePd4hBsr8BDY"
      },
      "source": [
        ""
      ],
      "execution_count": null,
      "outputs": []
    }
  ]
}